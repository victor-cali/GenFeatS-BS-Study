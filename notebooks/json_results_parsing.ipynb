{
 "cells": [
  {
   "cell_type": "code",
   "execution_count": 24,
   "metadata": {},
   "outputs": [],
   "source": [
    "import pandas as pd\n",
    "import json"
   ]
  },
  {
   "cell_type": "code",
   "execution_count": 25,
   "metadata": {},
   "outputs": [],
   "source": [
    "def retrieve_data(data_file_path: str) -> dict:\n",
    "    with open(data_file_path) as data_file:\n",
    "        data = json.load(data_file)\n",
    "        return data"
   ]
  },
  {
   "cell_type": "code",
   "execution_count": 26,
   "metadata": {},
   "outputs": [],
   "source": [
    "def get_subject(data: dict) -> str:\n",
    "    return data['info']['metadata']['subject']"
   ]
  },
  {
   "cell_type": "code",
   "execution_count": 27,
   "metadata": {},
   "outputs": [],
   "source": [
    "def get_last_generation(data: dict) -> dict:\n",
    "    if 'info' in data.keys():\n",
    "        del data['info']\n",
    "    best_solution = max(map(int, data.keys()))\n",
    "    return data[str(best_solution)]"
   ]
  },
  {
   "cell_type": "code",
   "execution_count": 28,
   "metadata": {},
   "outputs": [],
   "source": [
    "def make_row(subject: str, generation_record: dict) -> dict:\n",
    "    row = dict()\n",
    "    row['subject'] = subject\n",
    "    solution = generation_record['solution']\n",
    "    for gene, value in solution.items():\n",
    "        del value['feature_parameters']\n",
    "        value_keys = tuple(value.keys())\n",
    "        for key in value_keys:\n",
    "            value[f'{key}_{gene}'] = value[key]\n",
    "            del value[key]\n",
    "    flat_solution = dict()\n",
    "    for key in solution:\n",
    "        flat_solution = flat_solution | solution[key]\n",
    "    del generation_record['solution']\n",
    "    row = row | flat_solution | generation_record\n",
    "    return row"
   ]
  },
  {
   "cell_type": "code",
   "execution_count": 35,
   "metadata": {},
   "outputs": [],
   "source": [
    "def encode(row: dict) -> dict:\n",
    "    for key, value in row.items():\n",
    "        if not isinstance(value, str):\n",
    "            row.update({key: repr(value)})"
   ]
  },
  {
   "cell_type": "code",
   "execution_count": 29,
   "metadata": {},
   "outputs": [],
   "source": [
    "data_file_path = '../data/processed/S2/results-S2-08-01-2023-21-38-51.json'"
   ]
  },
  {
   "cell_type": "code",
   "execution_count": 30,
   "metadata": {},
   "outputs": [],
   "source": [
    "data = retrieve_data(data_file_path)"
   ]
  },
  {
   "cell_type": "code",
   "execution_count": 31,
   "metadata": {},
   "outputs": [],
   "source": [
    "subject = get_subject(data)"
   ]
  },
  {
   "cell_type": "code",
   "execution_count": 32,
   "metadata": {},
   "outputs": [],
   "source": [
    "generation_record = get_last_generation(data)"
   ]
  },
  {
   "cell_type": "code",
   "execution_count": 33,
   "metadata": {},
   "outputs": [],
   "source": [
    "row = make_row(subject, generation_record)"
   ]
  },
  {
   "cell_type": "code",
   "execution_count": 36,
   "metadata": {},
   "outputs": [],
   "source": [
    "encoded_row = encode(row)"
   ]
  },
  {
   "cell_type": "code",
   "execution_count": 37,
   "metadata": {},
   "outputs": [
    {
     "name": "stdout",
     "output_type": "stream",
     "text": [
      "{'subject': 'S2', 'feature_g1': 'pow_spect', 'channels_g1': \"['Cz']\", 'frequency_bands_g1': '[[0.5, 4], [7.5, 22]]', 'feature_g2': 'variance', 'channels_g2': \"['C3', 'C4']\", 'frequency_bands_g2': '[[7.5, 13]]', 'feature_g3': 'variance', 'channels_g3': \"['C3', 'C4']\", 'frequency_bands_g3': '[[7.5, 17.5]]', 'accuracy': '0.6411', 'avg_feature_feature_corr': '0.1827202624398782', 'avg_offspring_merit': '0.1809414523048869'}\n"
     ]
    }
   ],
   "source": [
    "print(row)"
   ]
  }
 ],
 "metadata": {
  "kernelspec": {
   "display_name": "bci",
   "language": "python",
   "name": "python3"
  },
  "language_info": {
   "codemirror_mode": {
    "name": "ipython",
    "version": 3
   },
   "file_extension": ".py",
   "mimetype": "text/x-python",
   "name": "python",
   "nbconvert_exporter": "python",
   "pygments_lexer": "ipython3",
   "version": "3.10.6"
  },
  "orig_nbformat": 4,
  "vscode": {
   "interpreter": {
    "hash": "40cb60d58eb0bc3470df574a1dfd6a0de35588c5341e27c74dcfd38bc41bca57"
   }
  }
 },
 "nbformat": 4,
 "nbformat_minor": 2
}
