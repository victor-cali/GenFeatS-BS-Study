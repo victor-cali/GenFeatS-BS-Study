{
 "cells": [
  {
   "attachments": {},
   "cell_type": "markdown",
   "metadata": {},
   "source": [
    "# Subjects Evaluation\n",
    "\n",
    "Here we obtain the performance of the best solutions found by GenFeatS-BS and compare them to the performance obtained from a standard feature extraction procedure.\n",
    "\n",
    "**GenFeatS-BS**\n",
    "\n",
    "This method applies a Genetic Algorithm design that finds the best combination of channel(s), frequency band(s), feature and feature parameters for a given subject.\n",
    "\n",
    "\n",
    "**Comparison Method**\n",
    "\n",
    "This method creates a reduced filter bank of the subject's signals, using mu and beta frequency bands, then ICA method is applied to the the signals and from the result, CSP method is used for feature extraction."
   ]
  },
  {
   "cell_type": "code",
   "execution_count": 1,
   "metadata": {},
   "outputs": [],
   "source": [
    "import mne\n",
    "import numpy as np\n",
    "from sklearn import svm\n",
    "from mne.decoding import CSP\n",
    "from mne.preprocessing import ICA\n",
    "from src.genfeats.genfeats_bs import GenFeatSBS\n",
    "from src.genfeats.dna.chromesome import Chromesome\n",
    "from sklearn.model_selection import cross_val_score\n",
    "from src.sighandling.sighandling import get_dataset_bbcic4_2b"
   ]
  },
  {
   "cell_type": "code",
   "execution_count": 2,
   "metadata": {},
   "outputs": [],
   "source": [
    "# GenFeatS-BS resources\n",
    "resources_folder = 'D:/Dev/GenFeatS-BS-Study/resources/'\n",
    "results_path = 'D:/Dev/GenFeatS-BS-Study/data/processed/'\n",
    "execution_metadata = {\n",
    "    'subject': 'S',\n",
    "    'survival_rate': 0.1,\n",
    "    'chromesome_size': 4,\n",
    "    'population_size': 40,\n",
    "    'extintions_limit': 10,\n",
    "    'generations_limit': 400\n",
    "}"
   ]
  },
  {
   "cell_type": "code",
   "execution_count": 3,
   "metadata": {},
   "outputs": [],
   "source": [
    "# Define the SVM classifier\n",
    "classifier = svm.SVC(kernel='rbf')"
   ]
  },
  {
   "cell_type": "code",
   "execution_count": 41,
   "metadata": {},
   "outputs": [],
   "source": [
    "def cross_validate(classifier, X, y):\n",
    "    # Perform cross-validation\n",
    "    scores = cross_val_score(classifier, X, y)\n",
    "\n",
    "    # Print the mean accuracy across folds\n",
    "    print(\"Accuracy: %0.4f (+/- %0.2f)\" % (scores.mean(), scores.std() * 2))"
   ]
  },
  {
   "cell_type": "code",
   "execution_count": 5,
   "metadata": {},
   "outputs": [],
   "source": [
    "def get_filtered_epochs(epochs):\n",
    "    channels = epochs.ch_names\n",
    "    mu_channels = {ch:f'{ch}_mu' for ch in channels}\n",
    "    beta_channels = {ch:f'{ch}_beta' for ch in channels}\n",
    "    \n",
    "    # Apply the filter to the data\n",
    "    epochs_mu_filt = epochs.copy().filter(l_freq=8, h_freq=13, picks='eeg', method = 'iir')\n",
    "    epochs_mu_filt.rename_channels(mu_channels)\n",
    "    \n",
    "    # Apply the filter to the data\n",
    "    epochs_beta_filt = epochs.copy().filter(l_freq=13, h_freq=30, picks='eeg', method = 'iir')\n",
    "    epochs_beta_filt.rename_channels(beta_channels)\n",
    "    \n",
    "    return epochs_mu_filt, epochs_beta_filt\n",
    "    "
   ]
  },
  {
   "cell_type": "code",
   "execution_count": 6,
   "metadata": {},
   "outputs": [],
   "source": [
    "def apply_ICA(epochs_mu_filt, epochs_beta_filt):\n",
    "    # Create an ICA object\n",
    "    ica = ICA(n_components=0.9)\n",
    "\n",
    "    ### MU\n",
    "    # Fit the ICA object to the data and extract the ICs\n",
    "    ica.fit(epochs_mu_filt)\n",
    "    # Apply the ICA to the data to obtain the IC activations\n",
    "    ica_epochs_mu = ica.apply(epochs_mu_filt)\n",
    "\n",
    "    ## BETA\n",
    "    # Fit the ICA object to the data and extract the ICs\n",
    "    ica.fit(epochs_beta_filt)\n",
    "    # Apply the ICA to the data to obtain the IC activations\n",
    "    ica_epochs_beta = ica.apply(epochs_beta_filt)  \n",
    "    \n",
    "    return ica_epochs_mu, ica_epochs_beta"
   ]
  },
  {
   "cell_type": "code",
   "execution_count": 7,
   "metadata": {},
   "outputs": [],
   "source": [
    "def extract_CSP_features(epochs, ica_epochs_mu, ica_epochs_beta, y):\n",
    "    epochs_final = epochs.copy()\n",
    "    epochs_final.add_channels([ica_epochs_mu, ica_epochs_beta], force_update_info=True)\n",
    "    epochs_final.drop_channels(epochs.ch_names)\n",
    "    \n",
    "    # Create a CSP object\n",
    "    csp = CSP()\n",
    "\n",
    "    # Apply CSP to the epochs data\n",
    "    X_csp = csp.fit_transform(epochs_final.get_data(), y)\n",
    "    \n",
    "    return X_csp"
   ]
  },
  {
   "cell_type": "code",
   "execution_count": 8,
   "metadata": {},
   "outputs": [],
   "source": [
    "def get_standard_features(epochs, y):\n",
    "    \n",
    "    epochs_mu_filt, epochs_beta_filt = get_filtered_epochs(epochs)\n",
    "    \n",
    "    ica_epochs_mu, ica_epochs_beta = apply_ICA(epochs_mu_filt, epochs_beta_filt)\n",
    "    \n",
    "    X_csp = extract_CSP_features(epochs, ica_epochs_mu, ica_epochs_beta, y)\n",
    "    \n",
    "    return X_csp\n"
   ]
  },
  {
   "attachments": {},
   "cell_type": "markdown",
   "metadata": {},
   "source": [
    "## S1"
   ]
  },
  {
   "cell_type": "code",
   "execution_count": 9,
   "metadata": {},
   "outputs": [
    {
     "name": "stdout",
     "output_type": "stream",
     "text": [
      "Not setting metadata\n",
      "159 matching events found\n",
      "No baseline correction applied\n",
      "0 projection items activated\n",
      "Not setting metadata\n",
      "165 matching events found\n",
      "No baseline correction applied\n",
      "0 projection items activated\n",
      "Dropped 0 epochs: \n",
      "Dropped 6 epochs: 159, 160, 161, 162, 163, 164\n",
      "Not setting metadata\n",
      "318 matching events found\n",
      "No baseline correction applied\n"
     ]
    }
   ],
   "source": [
    "# Load the epochs data\n",
    "data_file = 'D:/Dev/GenFeatS-BS-Study/data/external/segmented/S1_clean.mat'\n",
    "epochs = get_dataset_bbcic4_2b(data_file)"
   ]
  },
  {
   "cell_type": "code",
   "execution_count": 10,
   "metadata": {},
   "outputs": [
    {
     "name": "stderr",
     "output_type": "stream",
     "text": [
      "2023-04-08 21:07:24,062\tINFO worker.py:1518 -- Started a local Ray instance.\n"
     ]
    }
   ],
   "source": [
    "# GenFeatS-BS Instance\n",
    "\n",
    "genfeatsbs = GenFeatSBS(\n",
    "    resources_folder, \n",
    "    epochs, \n",
    "    classifier, \n",
    "    results_path=results_path, \n",
    "    execution_metadata=execution_metadata,\n",
    "    chromesome_size = 4,\n",
    "    generations_limit = 100\n",
    ")"
   ]
  },
  {
   "attachments": {},
   "cell_type": "markdown",
   "metadata": {},
   "source": [
    "**S1 Chromesome**"
   ]
  },
  {
   "cell_type": "code",
   "execution_count": 11,
   "metadata": {},
   "outputs": [],
   "source": [
    "s1_solution_dict = {\n",
    "    'g1': { \n",
    "        'feature': 'spect_edge_freq',\n",
    "        'frequency_bands': [[0.5, 4], [7.5, 13]],\n",
    "        'channels': ['C4'],\n",
    "        'feature_parameters': {\n",
    "            \"psd_method\": \"multitaper\",\n",
    "            \"ref_freq\": 83,\n",
    "            \"edge\": 0.6\n",
    "        }\n",
    "    },\n",
    "    'g2': { \n",
    "        'feature': 'hjorth_mobility_spect',\n",
    "        'frequency_bands': [[17.5,24]],\n",
    "        'channels': ['C3', 'Cz'],\n",
    "        'feature_parameters': {\n",
    "            \"psd_method\": \"fft\"\n",
    "        }\n",
    "    },\n",
    "    'g3': { \n",
    "        'feature': 'line_length',\n",
    "        'frequency_bands': [[7.5,13]],\n",
    "        'channels': ['C3', 'C4'],\n",
    "        'feature_parameters': {}\n",
    "    },\n",
    "}"
   ]
  },
  {
   "cell_type": "code",
   "execution_count": 12,
   "metadata": {},
   "outputs": [
    {
     "name": "stdout",
     "output_type": "stream",
     "text": [
      "Accuracy: 0.74 (+/- 0.15)\n"
     ]
    }
   ],
   "source": [
    "solution = Chromesome.from_dict(s1_solution_dict)\n",
    "X_s1 = genfeatsbs.map.to_phenotype(solution)\n",
    "cross_validate(classifier, X_s1, epochs.events[:, -1])"
   ]
  },
  {
   "attachments": {},
   "cell_type": "markdown",
   "metadata": {},
   "source": [
    "#### Standard Method"
   ]
  },
  {
   "cell_type": "code",
   "execution_count": 13,
   "metadata": {},
   "outputs": [
    {
     "name": "stdout",
     "output_type": "stream",
     "text": [
      "Setting up band-pass filter from 8 - 13 Hz\n",
      "\n",
      "IIR filter parameters\n",
      "---------------------\n",
      "Butterworth bandpass zero-phase (two-pass forward and reverse) non-causal filter:\n",
      "- Filter order 16 (effective, after forward-backward)\n",
      "- Cutoffs at 8.00, 13.00 Hz: -6.02, -6.02 dB\n",
      "\n",
      "Setting up band-pass filter from 13 - 30 Hz\n",
      "\n",
      "IIR filter parameters\n",
      "---------------------\n",
      "Butterworth bandpass zero-phase (two-pass forward and reverse) non-causal filter:\n",
      "- Filter order 16 (effective, after forward-backward)\n",
      "- Cutoffs at 13.00, 30.00 Hz: -6.02, -6.02 dB\n",
      "\n",
      "Fitting ICA to data using 3 channels (please be patient, this may take a while)\n",
      "Selecting by explained variance: 3 components\n",
      "Fitting ICA took 0.1s.\n",
      "Applying ICA to Epochs instance\n",
      "    Transforming to ICA space (3 components)\n",
      "    Zeroing out 0 ICA components\n",
      "    Projecting back using 3 PCA components\n",
      "Fitting ICA to data using 3 channels (please be patient, this may take a while)\n",
      "Selecting by explained variance: 3 components\n",
      "Fitting ICA took 0.3s.\n",
      "Applying ICA to Epochs instance\n",
      "    Transforming to ICA space (3 components)\n",
      "    Zeroing out 0 ICA components\n",
      "    Projecting back using 3 PCA components\n",
      "Computing rank from data with rank=None\n",
      "    Using tolerance 0.8 (2.2e-16 eps * 6 dim * 6e+14  max singular value)\n",
      "    Estimated rank (mag): 6\n",
      "    MAG: rank 6 computed from 6 data channels with 0 projectors\n",
      "Reducing data rank from 6 -> 6\n",
      "Estimating covariance using EMPIRICAL\n",
      "Done.\n",
      "Computing rank from data with rank=None\n",
      "    Using tolerance 0.78 (2.2e-16 eps * 6 dim * 5.9e+14  max singular value)\n",
      "    Estimated rank (mag): 6\n",
      "    MAG: rank 6 computed from 6 data channels with 0 projectors\n",
      "Reducing data rank from 6 -> 6\n",
      "Estimating covariance using EMPIRICAL\n",
      "Done.\n",
      "Accuracy: 0.73 (+/- 0.15)\n"
     ]
    }
   ],
   "source": [
    "X_csp = get_standard_features(epochs, epochs.events[:, -1])\n",
    "cross_validate(classifier, X_csp, epochs.events[:, -1])"
   ]
  },
  {
   "attachments": {},
   "cell_type": "markdown",
   "metadata": {},
   "source": [
    "## S2"
   ]
  },
  {
   "cell_type": "code",
   "execution_count": 14,
   "metadata": {},
   "outputs": [
    {
     "name": "stdout",
     "output_type": "stream",
     "text": [
      "Not setting metadata\n",
      "163 matching events found\n",
      "No baseline correction applied\n",
      "0 projection items activated\n",
      "Not setting metadata\n",
      "166 matching events found\n",
      "No baseline correction applied\n",
      "0 projection items activated\n",
      "Dropped 0 epochs: \n",
      "Dropped 3 epochs: 163, 164, 165\n",
      "Not setting metadata\n",
      "326 matching events found\n",
      "No baseline correction applied\n"
     ]
    }
   ],
   "source": [
    "# Load the epochs data\n",
    "data_file = 'D:/Dev/GenFeatS-BS-Study/data/external/segmented/S2_clean.mat'\n",
    "epochs = get_dataset_bbcic4_2b(data_file)"
   ]
  },
  {
   "cell_type": "code",
   "execution_count": 15,
   "metadata": {},
   "outputs": [],
   "source": [
    "# GenFeatS-BS Instance\n",
    "\n",
    "genfeatsbs = GenFeatSBS(\n",
    "    resources_folder, \n",
    "    epochs, \n",
    "    classifier, \n",
    "    results_path=results_path, \n",
    "    execution_metadata=execution_metadata,\n",
    "    chromesome_size = 4,\n",
    "    generations_limit = 100\n",
    ")"
   ]
  },
  {
   "attachments": {},
   "cell_type": "markdown",
   "metadata": {},
   "source": [
    "**S2 Chromesome**"
   ]
  },
  {
   "cell_type": "code",
   "execution_count": 16,
   "metadata": {},
   "outputs": [],
   "source": [
    "s2_solution_dict = {\n",
    "    'g1': { \n",
    "        'feature': 'hjorth_complexity_spect',\n",
    "        'frequency_bands': [[7.5,13]],\n",
    "        'channels': ['C3', 'C4'],\n",
    "        'feature_parameters': {\n",
    "            \"psd_method\": \"multitaper\"\n",
    "        }\n",
    "    },\n",
    "    'g2': { \n",
    "        'feature': 'spect_edge_freq',\n",
    "        'frequency_bands': [[7.5, 22], [13, 30]],\n",
    "        'channels': ['C3'],\n",
    "        'feature_parameters': {\n",
    "            \"psd_method\": \"fft\",\n",
    "            \"ref_freq\": 125.0,\n",
    "            \"edge\": 0.7\n",
    "        }\n",
    "    },\n",
    "    'g3': { \n",
    "        'feature': 'samp_entropy',\n",
    "        'frequency_bands': [[7.5,13]],\n",
    "        'channels': ['C3', 'C4'],\n",
    "        'feature_parameters': {\n",
    "            \"emb\": 16,\n",
    "            \"metric\": \"infinity\"\n",
    "        }\n",
    "    }\n",
    "}"
   ]
  },
  {
   "cell_type": "code",
   "execution_count": 17,
   "metadata": {},
   "outputs": [
    {
     "name": "stdout",
     "output_type": "stream",
     "text": [
      "Accuracy: 0.67 (+/- 0.02)\n"
     ]
    }
   ],
   "source": [
    "solution = Chromesome.from_dict(s2_solution_dict)\n",
    "X_s2 = genfeatsbs.map.to_phenotype(solution)\n",
    "cross_validate(classifier, X_s2, epochs.events[:, -1])"
   ]
  },
  {
   "attachments": {},
   "cell_type": "markdown",
   "metadata": {},
   "source": [
    "#### Standard Method"
   ]
  },
  {
   "cell_type": "code",
   "execution_count": 18,
   "metadata": {},
   "outputs": [
    {
     "name": "stdout",
     "output_type": "stream",
     "text": [
      "Setting up band-pass filter from 8 - 13 Hz\n",
      "\n",
      "IIR filter parameters\n",
      "---------------------\n",
      "Butterworth bandpass zero-phase (two-pass forward and reverse) non-causal filter:\n",
      "- Filter order 16 (effective, after forward-backward)\n",
      "- Cutoffs at 8.00, 13.00 Hz: -6.02, -6.02 dB\n",
      "\n",
      "Setting up band-pass filter from 13 - 30 Hz\n",
      "\n",
      "IIR filter parameters\n",
      "---------------------\n",
      "Butterworth bandpass zero-phase (two-pass forward and reverse) non-causal filter:\n",
      "- Filter order 16 (effective, after forward-backward)\n",
      "- Cutoffs at 13.00, 30.00 Hz: -6.02, -6.02 dB\n",
      "\n",
      "Fitting ICA to data using 3 channels (please be patient, this may take a while)\n",
      "Selecting by explained variance: 2 components\n",
      "Fitting ICA took 0.2s.\n",
      "Applying ICA to Epochs instance\n",
      "    Transforming to ICA space (2 components)\n",
      "    Zeroing out 0 ICA components\n",
      "    Projecting back using 3 PCA components\n",
      "Fitting ICA to data using 3 channels (please be patient, this may take a while)\n",
      "Selecting by explained variance: 2 components\n",
      "Fitting ICA took 0.1s.\n",
      "Applying ICA to Epochs instance\n",
      "    Transforming to ICA space (2 components)\n",
      "    Zeroing out 0 ICA components\n",
      "    Projecting back using 3 PCA components\n",
      "Computing rank from data with rank=None\n",
      "    Using tolerance 0.6 (2.2e-16 eps * 6 dim * 4.5e+14  max singular value)\n",
      "    Estimated rank (mag): 6\n",
      "    MAG: rank 6 computed from 6 data channels with 0 projectors\n",
      "Reducing data rank from 6 -> 6\n",
      "Estimating covariance using EMPIRICAL\n",
      "Done.\n",
      "Computing rank from data with rank=None\n",
      "    Using tolerance 0.57 (2.2e-16 eps * 6 dim * 4.3e+14  max singular value)\n",
      "    Estimated rank (mag): 6\n",
      "    MAG: rank 6 computed from 6 data channels with 0 projectors\n",
      "Reducing data rank from 6 -> 6\n",
      "Estimating covariance using EMPIRICAL\n",
      "Done.\n",
      "Accuracy: 0.53 (+/- 0.06)\n"
     ]
    }
   ],
   "source": [
    "X_csp = get_standard_features(epochs, epochs.events[:, -1])\n",
    "cross_validate(classifier, X_csp, epochs.events[:, -1])"
   ]
  },
  {
   "attachments": {},
   "cell_type": "markdown",
   "metadata": {},
   "source": [
    "## S3"
   ]
  },
  {
   "cell_type": "code",
   "execution_count": 19,
   "metadata": {},
   "outputs": [
    {
     "name": "stdout",
     "output_type": "stream",
     "text": [
      "Not setting metadata\n",
      "146 matching events found\n",
      "No baseline correction applied\n",
      "0 projection items activated\n",
      "Not setting metadata\n",
      "150 matching events found\n",
      "No baseline correction applied\n",
      "0 projection items activated\n",
      "Dropped 0 epochs: \n",
      "Dropped 4 epochs: 146, 147, 148, 149\n",
      "Not setting metadata\n",
      "292 matching events found\n",
      "No baseline correction applied\n"
     ]
    }
   ],
   "source": [
    "# Load the epochs data\n",
    "data_file = 'D:/Dev/GenFeatS-BS-Study/data/external/segmented/S3_clean.mat'\n",
    "epochs = get_dataset_bbcic4_2b(data_file)"
   ]
  },
  {
   "cell_type": "code",
   "execution_count": 20,
   "metadata": {},
   "outputs": [],
   "source": [
    "# GenFeatS-BS Instance\n",
    "\n",
    "genfeatsbs = GenFeatSBS(\n",
    "    resources_folder, \n",
    "    epochs, \n",
    "    classifier, \n",
    "    results_path=results_path, \n",
    "    execution_metadata=execution_metadata,\n",
    "    chromesome_size = 4,\n",
    "    generations_limit = 100\n",
    ")"
   ]
  },
  {
   "attachments": {},
   "cell_type": "markdown",
   "metadata": {},
   "source": [
    "**S3 Chromesome**"
   ]
  },
  {
   "cell_type": "code",
   "execution_count": 21,
   "metadata": {},
   "outputs": [],
   "source": [
    "s3_solution_dict = {\n",
    "    'g1': { \n",
    "        'feature': 'samp_entropy',\n",
    "        'frequency_bands': [[7.5,13]],\n",
    "        'channels': ['C3', 'C4'],\n",
    "        'feature_parameters': {\n",
    "            \"emb\": 6,\n",
    "            \"metric\": \"infinity\"\n",
    "        }\n",
    "    },\n",
    "    'g2': { \n",
    "        'feature': 'kurtosis',\n",
    "        'frequency_bands': [[0.5, 4], [4, 7.5]],\n",
    "        'channels': ['C4'],\n",
    "        'feature_parameters': {}\n",
    "    },\n",
    "    'g3': { \n",
    "        'feature': 'hjorth_complexity_spect',\n",
    "        'frequency_bands': [[7.5,13]],\n",
    "        'channels': ['C3','C4'],\n",
    "        'feature_parameters': {\n",
    "            \"psd_method\": \"fft\"\n",
    "        }\n",
    "    }\n",
    "}"
   ]
  },
  {
   "cell_type": "code",
   "execution_count": 22,
   "metadata": {},
   "outputs": [
    {
     "name": "stdout",
     "output_type": "stream",
     "text": [
      "Accuracy: 0.65 (+/- 0.08)\n"
     ]
    }
   ],
   "source": [
    "solution = Chromesome.from_dict(s3_solution_dict)\n",
    "X_s3 = genfeatsbs.map.to_phenotype(solution)\n",
    "cross_validate(classifier, X_s3, epochs.events[:, -1])"
   ]
  },
  {
   "attachments": {},
   "cell_type": "markdown",
   "metadata": {},
   "source": [
    "#### Standard Method"
   ]
  },
  {
   "cell_type": "code",
   "execution_count": 23,
   "metadata": {},
   "outputs": [
    {
     "name": "stdout",
     "output_type": "stream",
     "text": [
      "Setting up band-pass filter from 8 - 13 Hz\n",
      "\n",
      "IIR filter parameters\n",
      "---------------------\n",
      "Butterworth bandpass zero-phase (two-pass forward and reverse) non-causal filter:\n",
      "- Filter order 16 (effective, after forward-backward)\n",
      "- Cutoffs at 8.00, 13.00 Hz: -6.02, -6.02 dB\n",
      "\n",
      "Setting up band-pass filter from 13 - 30 Hz\n",
      "\n",
      "IIR filter parameters\n",
      "---------------------\n",
      "Butterworth bandpass zero-phase (two-pass forward and reverse) non-causal filter:\n",
      "- Filter order 16 (effective, after forward-backward)\n",
      "- Cutoffs at 13.00, 30.00 Hz: -6.02, -6.02 dB\n",
      "\n",
      "Fitting ICA to data using 3 channels (please be patient, this may take a while)\n",
      "Selecting by explained variance: 2 components\n",
      "Fitting ICA took 0.1s.\n",
      "Applying ICA to Epochs instance\n",
      "    Transforming to ICA space (2 components)\n",
      "    Zeroing out 0 ICA components\n",
      "    Projecting back using 3 PCA components\n",
      "Fitting ICA to data using 3 channels (please be patient, this may take a while)\n",
      "Selecting by explained variance: 2 components\n",
      "Fitting ICA took 0.2s.\n",
      "Applying ICA to Epochs instance\n",
      "    Transforming to ICA space (2 components)\n",
      "    Zeroing out 0 ICA components\n",
      "    Projecting back using 3 PCA components\n",
      "Computing rank from data with rank=None\n",
      "    Using tolerance 1.1 (2.2e-16 eps * 6 dim * 8.2e+14  max singular value)\n",
      "    Estimated rank (mag): 6\n",
      "    MAG: rank 6 computed from 6 data channels with 0 projectors\n",
      "Reducing data rank from 6 -> 6\n",
      "Estimating covariance using EMPIRICAL\n",
      "Done.\n",
      "Computing rank from data with rank=None\n",
      "    Using tolerance 1.2 (2.2e-16 eps * 6 dim * 8.8e+14  max singular value)\n",
      "    Estimated rank (mag): 6\n",
      "    MAG: rank 6 computed from 6 data channels with 0 projectors\n",
      "Reducing data rank from 6 -> 6\n",
      "Estimating covariance using EMPIRICAL\n",
      "Done.\n",
      "Accuracy: 0.51 (+/- 0.07)\n"
     ]
    }
   ],
   "source": [
    "X_csp = get_standard_features(epochs, epochs.events[:, -1])\n",
    "cross_validate(classifier, X_csp, epochs.events[:, -1])"
   ]
  },
  {
   "cell_type": "markdown",
   "metadata": {},
   "source": [
    "## S4"
   ]
  },
  {
   "cell_type": "code",
   "execution_count": 24,
   "metadata": {},
   "outputs": [
    {
     "name": "stdout",
     "output_type": "stream",
     "text": [
      "Not setting metadata\n",
      "201 matching events found\n",
      "No baseline correction applied\n",
      "0 projection items activated\n",
      "Not setting metadata\n",
      "198 matching events found\n",
      "No baseline correction applied\n",
      "0 projection items activated\n",
      "Dropped 3 epochs: 198, 199, 200\n",
      "Dropped 0 epochs: \n",
      "Not setting metadata\n",
      "396 matching events found\n",
      "No baseline correction applied\n"
     ]
    }
   ],
   "source": [
    "# Load the epochs data\n",
    "data_file = 'D:/Dev/GenFeatS-BS-Study/data/external/segmented/S4_clean.mat'\n",
    "epochs = get_dataset_bbcic4_2b(data_file)"
   ]
  },
  {
   "cell_type": "code",
   "execution_count": 25,
   "metadata": {},
   "outputs": [],
   "source": [
    "# GenFeatS-BS Instance\n",
    "\n",
    "genfeatsbs = GenFeatSBS(\n",
    "    resources_folder, \n",
    "    epochs, \n",
    "    classifier, \n",
    "    results_path=results_path, \n",
    "    execution_metadata=execution_metadata,\n",
    "    chromesome_size = 4,\n",
    "    generations_limit = 100\n",
    ")"
   ]
  },
  {
   "attachments": {},
   "cell_type": "markdown",
   "metadata": {},
   "source": [
    "**S4 Chromesome**"
   ]
  },
  {
   "cell_type": "code",
   "execution_count": 39,
   "metadata": {},
   "outputs": [],
   "source": [
    "s4_solution_dict = {\n",
    "    'g1': { \n",
    "        'feature': 'hjorth_mobility_spect',\n",
    "        'frequency_bands': [[7.5,22]],\n",
    "        'channels': ['C4', 'Cz'],\n",
    "        'feature_parameters': {\n",
    "            'psd_method': 'welch'\n",
    "        }\n",
    "    },\n",
    "    'g2': { \n",
    "        'feature': 'hjorth_complexity_spect',\n",
    "        'frequency_bands': [[7.5,13]],\n",
    "        'channels': ['C3', 'C4'],\n",
    "        'feature_parameters': {\n",
    "            'psd_method': 'fft'\n",
    "        }\n",
    "    },\n",
    "    'g3': { \n",
    "        'feature': 'hjorth_complexity',\n",
    "        'frequency_bands': [[13,17.5]],\n",
    "        'channels': ['C4'],\n",
    "        'feature_parameters': {}\n",
    "    }\n",
    "}"
   ]
  },
  {
   "cell_type": "code",
   "execution_count": 42,
   "metadata": {},
   "outputs": [
    {
     "name": "stdout",
     "output_type": "stream",
     "text": [
      "Accuracy: 0.8662 (+/- 0.11)\n"
     ]
    }
   ],
   "source": [
    "solution = Chromesome.from_dict(s4_solution_dict)\n",
    "X_s4 = genfeatsbs.map.to_phenotype(solution)\n",
    "cross_validate(classifier, X_s4, epochs.events[:, -1])"
   ]
  },
  {
   "attachments": {},
   "cell_type": "markdown",
   "metadata": {},
   "source": [
    "#### Standard Method"
   ]
  },
  {
   "cell_type": "code",
   "execution_count": null,
   "metadata": {},
   "outputs": [],
   "source": [
    "X_csp = get_standard_features(epochs, epochs.events[:, -1])\n",
    "cross_validate(classifier, X_csp, epochs.events[:, -1])"
   ]
  }
 ],
 "metadata": {
  "kernelspec": {
   "display_name": "bci",
   "language": "python",
   "name": "python3"
  },
  "language_info": {
   "codemirror_mode": {
    "name": "ipython",
    "version": 3
   },
   "file_extension": ".py",
   "mimetype": "text/x-python",
   "name": "python",
   "nbconvert_exporter": "python",
   "pygments_lexer": "ipython3",
   "version": "3.10.6"
  },
  "orig_nbformat": 4,
  "vscode": {
   "interpreter": {
    "hash": "40cb60d58eb0bc3470df574a1dfd6a0de35588c5341e27c74dcfd38bc41bca57"
   }
  }
 },
 "nbformat": 4,
 "nbformat_minor": 2
}
