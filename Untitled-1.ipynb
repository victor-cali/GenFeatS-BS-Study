{
 "cells": [
  {
   "cell_type": "code",
   "execution_count": null,
   "metadata": {},
   "outputs": [],
   "source": [
    "from sklearn import svm\n",
    "from src.genfeats.genfeats_bs import GenFeatSBS\n",
    "from src.sighandling.sighandling import get_dataset_bbcic4_2b"
   ]
  },
  {
   "cell_type": "code",
   "execution_count": null,
   "metadata": {},
   "outputs": [],
   "source": [
    "data_file = 'D:/Dev/GenFeatS-BS-Study/data/external/segmented/S1_clean.mat'\n",
    "epochs = get_dataset_bbcic4_2b(data_file)"
   ]
  },
  {
   "cell_type": "code",
   "execution_count": null,
   "metadata": {},
   "outputs": [],
   "source": [
    "resources_folder = 'D:/Dev/GenFeatS-BS-Study/resources/'"
   ]
  },
  {
   "cell_type": "code",
   "execution_count": null,
   "metadata": {},
   "outputs": [],
   "source": [
    "fitness_function = svm.SVC(kernel='rbf')"
   ]
  },
  {
   "cell_type": "code",
   "execution_count": null,
   "metadata": {},
   "outputs": [],
   "source": [
    "results_path = 'D:/Dev/GenFeatS-BS/data/processed/S1/'"
   ]
  },
  {
   "cell_type": "code",
   "execution_count": null,
   "metadata": {},
   "outputs": [],
   "source": [
    "execution_metadata = {\n",
    "    'subject': 'S1',\n",
    "    'survival_rate': 0.1,\n",
    "    'chromesome_size': 5,\n",
    "    'population_size': 50,\n",
    "    'extintions_limit': 10,\n",
    "    'generations_limit': 500\n",
    "}"
   ]
  },
  {
   "cell_type": "code",
   "execution_count": null,
   "metadata": {},
   "outputs": [],
   "source": [
    "genfeatsbs = GenFeatSBS(\n",
    "    resources_folder, \n",
    "    epochs, \n",
    "    fitness_function, \n",
    "    results_path=results_path, \n",
    "    execution_metadata=execution_metadata,\n",
    "    chromesome_size = 3,\n",
    "    generations_limit = 400\n",
    ")"
   ]
  },
  {
   "cell_type": "code",
   "execution_count": null,
   "metadata": {},
   "outputs": [],
   "source": [
    "result = genfeatsbs()"
   ]
  },
  {
   "cell_type": "code",
   "execution_count": null,
   "metadata": {},
   "outputs": [],
   "source": [
    "for _ in range(10):\n",
    "    result = genfeatsbs()"
   ]
  }
 ],
 "metadata": {
  "kernelspec": {
   "display_name": "Python 3.10.4 ('bci')",
   "language": "python",
   "name": "python3"
  },
  "language_info": {
   "codemirror_mode": {
    "name": "ipython",
    "version": 3
   },
   "file_extension": ".py",
   "mimetype": "text/x-python",
   "name": "python",
   "nbconvert_exporter": "python",
   "pygments_lexer": "ipython3",
   "version": "3.10.6"
  },
  "orig_nbformat": 4,
  "vscode": {
   "interpreter": {
    "hash": "40cb60d58eb0bc3470df574a1dfd6a0de35588c5341e27c74dcfd38bc41bca57"
   }
  }
 },
 "nbformat": 4,
 "nbformat_minor": 2
}
